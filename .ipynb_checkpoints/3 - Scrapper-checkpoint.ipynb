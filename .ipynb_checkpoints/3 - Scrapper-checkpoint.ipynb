{
 "cells": [
  {
   "cell_type": "code",
   "execution_count": 1,
   "metadata": {},
   "outputs": [
    {
     "name": "stdout",
     "output_type": "stream",
     "text": [
      "Requirement already satisfied: pandas in c:\\python39\\lib\\site-packages (1.3.4)\n",
      "Requirement already satisfied: numpy>=1.17.3; platform_machine != \"aarch64\" and platform_machine != \"arm64\" and python_version < \"3.10\" in c:\\python39\\lib\\site-packages (from pandas) (1.20.2)\n",
      "Requirement already satisfied: python-dateutil>=2.7.3 in c:\\python39\\lib\\site-packages (from pandas) (2.8.2)\n",
      "Requirement already satisfied: pytz>=2017.3 in c:\\python39\\lib\\site-packages (from pandas) (2021.3)\n",
      "Requirement already satisfied: six>=1.5 in c:\\python39\\lib\\site-packages (from python-dateutil>=2.7.3->pandas) (1.16.0)\n"
     ]
    },
    {
     "name": "stderr",
     "output_type": "stream",
     "text": [
      "WARNING: You are using pip version 20.2.3; however, version 21.3.1 is available.\n",
      "You should consider upgrading via the 'c:\\python39\\python.exe -m pip install --upgrade pip' command.\n"
     ]
    }
   ],
   "source": [
    "!pip install pandas"
   ]
  },
  {
   "cell_type": "code",
   "execution_count": 2,
   "metadata": {},
   "outputs": [],
   "source": [
    "import tweepy\n",
    "import webbrowser\n",
    "import time\n",
    "import pandas as pd"
   ]
  },
  {
   "cell_type": "code",
   "execution_count": 3,
   "metadata": {},
   "outputs": [],
   "source": [
    "consumer_key = \"XlAMtRwbiXMA1rwSLUlBXnl0b\"\n",
    "consumer_secret = \"XEpXzKiSNlGl1M5oeLwj2a7lHmVi9vCOq7rr1D8yQg83mBdBRy\""
   ]
  },
  {
   "cell_type": "code",
   "execution_count": 4,
   "metadata": {},
   "outputs": [],
   "source": [
    "callback_uri = 'oob'"
   ]
  },
  {
   "cell_type": "code",
   "execution_count": 5,
   "metadata": {},
   "outputs": [
    {
     "name": "stdout",
     "output_type": "stream",
     "text": [
      "https://api.twitter.com/oauth/authorize?oauth_token=h4nHeQAAAAABB3E4AAABflX_pQQ\n"
     ]
    }
   ],
   "source": [
    "auth = tweepy.OAuthHandler(consumer_key, consumer_secret, callback_uri)\n",
    "redirect_url = auth.get_authorization_url()\n",
    "print(redirect_url)"
   ]
  },
  {
   "cell_type": "code",
   "execution_count": 6,
   "metadata": {},
   "outputs": [
    {
     "data": {
      "text/plain": [
       "True"
      ]
     },
     "execution_count": 6,
     "metadata": {},
     "output_type": "execute_result"
    }
   ],
   "source": [
    "webbrowser.open(redirect_url)"
   ]
  },
  {
   "cell_type": "code",
   "execution_count": 7,
   "metadata": {},
   "outputs": [
    {
     "name": "stdout",
     "output_type": "stream",
     "text": [
      "What's the pin value? 3551060\n"
     ]
    }
   ],
   "source": [
    "user_pin_input = input(\"What's the pin value? \")"
   ]
  },
  {
   "cell_type": "code",
   "execution_count": 8,
   "metadata": {},
   "outputs": [
    {
     "data": {
      "text/plain": [
       "('4882418077-H17IYcDzcREjz2pEtuse1d5spmpWxFLETtteQyE',\n",
       " '0ikHwuh3Zq6WKMi0LyONvexVYnn2C8Lwjf2GnM1RkFxC3')"
      ]
     },
     "execution_count": 8,
     "metadata": {},
     "output_type": "execute_result"
    }
   ],
   "source": [
    "auth.get_access_token(user_pin_input)"
   ]
  },
  {
   "cell_type": "code",
   "execution_count": 9,
   "metadata": {},
   "outputs": [
    {
     "name": "stdout",
     "output_type": "stream",
     "text": [
      "4882418077-H17IYcDzcREjz2pEtuse1d5spmpWxFLETtteQyE 0ikHwuh3Zq6WKMi0LyONvexVYnn2C8Lwjf2GnM1RkFxC3\n"
     ]
    }
   ],
   "source": [
    "print(auth.access_token, auth.access_token_secret)"
   ]
  },
  {
   "cell_type": "code",
   "execution_count": 10,
   "metadata": {},
   "outputs": [],
   "source": [
    "api = tweepy.API(auth)"
   ]
  },
  {
   "cell_type": "code",
   "execution_count": 11,
   "metadata": {},
   "outputs": [],
   "source": [
    "my_timeline = api.home_timeline()"
   ]
  },
  {
   "cell_type": "code",
   "execution_count": 21,
   "metadata": {},
   "outputs": [],
   "source": [
    "columns = set()\n",
    "allowed_types = [str, int]\n",
    "tweets_data = []\n",
    "for status in my_timeline:\n",
    "    status_dict = dict(vars(status))\n",
    "    keys = status_dict.keys()\n",
    "    single_tweet_data = {\"user\": status.user.screen_name, \"author\": status.author.screen_name}\n",
    "    for k in keys:\n",
    "        try:\n",
    "            v_type = type(status_dict[k])\n",
    "        except:\n",
    "            v_type = None\n",
    "        if v_type != None:\n",
    "            if v_type in allowed_types:\n",
    "                single_tweet_data[k] = status_dict[k]\n",
    "                columns.add(k)\n",
    "    tweets_data.append(single_tweet_data)\n",
    "header_cols = list(columns)\n",
    "header_cols.append('user')\n",
    "header_cols.append('author')"
   ]
  },
  {
   "cell_type": "code",
   "execution_count": 22,
   "metadata": {},
   "outputs": [
    {
     "data": {
      "text/html": [
       "<div>\n",
       "<style scoped>\n",
       "    .dataframe tbody tr th:only-of-type {\n",
       "        vertical-align: middle;\n",
       "    }\n",
       "\n",
       "    .dataframe tbody tr th {\n",
       "        vertical-align: top;\n",
       "    }\n",
       "\n",
       "    .dataframe thead th {\n",
       "        text-align: right;\n",
       "    }\n",
       "</style>\n",
       "<table border=\"1\" class=\"dataframe\">\n",
       "  <thead>\n",
       "    <tr style=\"text-align: right;\">\n",
       "      <th></th>\n",
       "      <th>quoted_status_id_str</th>\n",
       "      <th>id</th>\n",
       "      <th>source</th>\n",
       "      <th>text</th>\n",
       "      <th>source_url</th>\n",
       "      <th>retweet_count</th>\n",
       "      <th>id_str</th>\n",
       "      <th>in_reply_to_status_id</th>\n",
       "      <th>quoted_status_id</th>\n",
       "      <th>favorite_count</th>\n",
       "      <th>in_reply_to_status_id_str</th>\n",
       "      <th>in_reply_to_user_id_str</th>\n",
       "      <th>in_reply_to_screen_name</th>\n",
       "      <th>lang</th>\n",
       "      <th>in_reply_to_user_id</th>\n",
       "      <th>user</th>\n",
       "      <th>author</th>\n",
       "    </tr>\n",
       "  </thead>\n",
       "  <tbody>\n",
       "    <tr>\n",
       "      <th>0</th>\n",
       "      <td>NaN</td>\n",
       "      <td>1481778089394851840</td>\n",
       "      <td>Twitter Media Studio</td>\n",
       "      <td>He's been the fungus among us for quite some t...</td>\n",
       "      <td>https://studio.twitter.com</td>\n",
       "      <td>484</td>\n",
       "      <td>1481778089394851840</td>\n",
       "      <td>NaN</td>\n",
       "      <td>NaN</td>\n",
       "      <td>5186</td>\n",
       "      <td>NaN</td>\n",
       "      <td>NaN</td>\n",
       "      <td>NaN</td>\n",
       "      <td>en</td>\n",
       "      <td>NaN</td>\n",
       "      <td>FortniteGame</td>\n",
       "      <td>FortniteGame</td>\n",
       "    </tr>\n",
       "    <tr>\n",
       "      <th>1</th>\n",
       "      <td>NaN</td>\n",
       "      <td>1481773195321561088</td>\n",
       "      <td>Twitter Web App</td>\n",
       "      <td>1 horse ≠ 1 horsepower (It's about 15 hp max)\\...</td>\n",
       "      <td>https://mobile.twitter.com</td>\n",
       "      <td>190</td>\n",
       "      <td>1481773195321561088</td>\n",
       "      <td>NaN</td>\n",
       "      <td>NaN</td>\n",
       "      <td>3235</td>\n",
       "      <td>NaN</td>\n",
       "      <td>NaN</td>\n",
       "      <td>NaN</td>\n",
       "      <td>en</td>\n",
       "      <td>NaN</td>\n",
       "      <td>MKBHD</td>\n",
       "      <td>MKBHD</td>\n",
       "    </tr>\n",
       "    <tr>\n",
       "      <th>2</th>\n",
       "      <td>NaN</td>\n",
       "      <td>1481772338299514880</td>\n",
       "      <td>Twitter for iPhone</td>\n",
       "      <td>RT @samberkhead: Tell me you’re a vegetarian i...</td>\n",
       "      <td>http://twitter.com/download/iphone</td>\n",
       "      <td>11</td>\n",
       "      <td>1481772338299514880</td>\n",
       "      <td>NaN</td>\n",
       "      <td>NaN</td>\n",
       "      <td>0</td>\n",
       "      <td>NaN</td>\n",
       "      <td>NaN</td>\n",
       "      <td>NaN</td>\n",
       "      <td>en</td>\n",
       "      <td>NaN</td>\n",
       "      <td>vboykis</td>\n",
       "      <td>vboykis</td>\n",
       "    </tr>\n",
       "    <tr>\n",
       "      <th>3</th>\n",
       "      <td>1481730709224099843</td>\n",
       "      <td>1481765181382434818</td>\n",
       "      <td>Twitter Web App</td>\n",
       "      <td>Joining four other Turing Laureates as a forei...</td>\n",
       "      <td>https://mobile.twitter.com</td>\n",
       "      <td>2</td>\n",
       "      <td>1481765181382434818</td>\n",
       "      <td>NaN</td>\n",
       "      <td>1.481731e+18</td>\n",
       "      <td>25</td>\n",
       "      <td>NaN</td>\n",
       "      <td>NaN</td>\n",
       "      <td>NaN</td>\n",
       "      <td>en</td>\n",
       "      <td>NaN</td>\n",
       "      <td>ylecun</td>\n",
       "      <td>ylecun</td>\n",
       "    </tr>\n",
       "    <tr>\n",
       "      <th>4</th>\n",
       "      <td>NaN</td>\n",
       "      <td>1481763129042165767</td>\n",
       "      <td>Twitter Web App</td>\n",
       "      <td>RT @googledevs: ✨ Transitions can be difficult...</td>\n",
       "      <td>https://mobile.twitter.com</td>\n",
       "      <td>19</td>\n",
       "      <td>1481763129042165767</td>\n",
       "      <td>NaN</td>\n",
       "      <td>NaN</td>\n",
       "      <td>0</td>\n",
       "      <td>NaN</td>\n",
       "      <td>NaN</td>\n",
       "      <td>NaN</td>\n",
       "      <td>en</td>\n",
       "      <td>NaN</td>\n",
       "      <td>FlutterDev</td>\n",
       "      <td>FlutterDev</td>\n",
       "    </tr>\n",
       "  </tbody>\n",
       "</table>\n",
       "</div>"
      ],
      "text/plain": [
       "  quoted_status_id_str                   id                source  \\\n",
       "0                  NaN  1481778089394851840  Twitter Media Studio   \n",
       "1                  NaN  1481773195321561088       Twitter Web App   \n",
       "2                  NaN  1481772338299514880    Twitter for iPhone   \n",
       "3  1481730709224099843  1481765181382434818       Twitter Web App   \n",
       "4                  NaN  1481763129042165767       Twitter Web App   \n",
       "\n",
       "                                                text  \\\n",
       "0  He's been the fungus among us for quite some t...   \n",
       "1  1 horse ≠ 1 horsepower (It's about 15 hp max)\\...   \n",
       "2  RT @samberkhead: Tell me you’re a vegetarian i...   \n",
       "3  Joining four other Turing Laureates as a forei...   \n",
       "4  RT @googledevs: ✨ Transitions can be difficult...   \n",
       "\n",
       "                           source_url  retweet_count               id_str  \\\n",
       "0          https://studio.twitter.com            484  1481778089394851840   \n",
       "1          https://mobile.twitter.com            190  1481773195321561088   \n",
       "2  http://twitter.com/download/iphone             11  1481772338299514880   \n",
       "3          https://mobile.twitter.com              2  1481765181382434818   \n",
       "4          https://mobile.twitter.com             19  1481763129042165767   \n",
       "\n",
       "   in_reply_to_status_id  quoted_status_id  favorite_count  \\\n",
       "0                    NaN               NaN            5186   \n",
       "1                    NaN               NaN            3235   \n",
       "2                    NaN               NaN               0   \n",
       "3                    NaN      1.481731e+18              25   \n",
       "4                    NaN               NaN               0   \n",
       "\n",
       "  in_reply_to_status_id_str in_reply_to_user_id_str in_reply_to_screen_name  \\\n",
       "0                       NaN                     NaN                     NaN   \n",
       "1                       NaN                     NaN                     NaN   \n",
       "2                       NaN                     NaN                     NaN   \n",
       "3                       NaN                     NaN                     NaN   \n",
       "4                       NaN                     NaN                     NaN   \n",
       "\n",
       "  lang  in_reply_to_user_id          user        author  \n",
       "0   en                  NaN  FortniteGame  FortniteGame  \n",
       "1   en                  NaN         MKBHD         MKBHD  \n",
       "2   en                  NaN       vboykis       vboykis  \n",
       "3   en                  NaN        ylecun        ylecun  \n",
       "4   en                  NaN    FlutterDev    FlutterDev  "
      ]
     },
     "execution_count": 22,
     "metadata": {},
     "output_type": "execute_result"
    }
   ],
   "source": [
    "df = pd.DataFrame(tweets_data, columns = header_cols)\n",
    "df.head()"
   ]
  },
  {
   "cell_type": "code",
   "execution_count": 26,
   "metadata": {},
   "outputs": [],
   "source": [
    "def extract_timeline_as_df(timeline_list):\n",
    "    columns = set()\n",
    "    allowed_types = [str, int]\n",
    "    tweets_data = []\n",
    "    for status in my_timeline:\n",
    "        status_dict = dict(vars(status))\n",
    "        keys = status_dict.keys()\n",
    "        single_tweet_data = {\"user\": status.user.screen_name, \"author\": status.author.screen_name}\n",
    "        for k in keys:\n",
    "            try:\n",
    "                v_type = type(status_dict[k])\n",
    "            except:\n",
    "                v_type = None\n",
    "            if v_type != None:\n",
    "                if v_type in allowed_types:\n",
    "                    single_tweet_data[k] = status_dict[k]\n",
    "                    columns.add(k)\n",
    "        tweets_data.append(single_tweet_data)\n",
    "    header_cols = list(columns)\n",
    "    header_cols.append('user')\n",
    "    header_cols.append('author')\n",
    "    df = pd.DataFrame(tweets_data, columns = header_cols)\n",
    "    return df"
   ]
  },
  {
   "cell_type": "code",
   "execution_count": 27,
   "metadata": {},
   "outputs": [
    {
     "data": {
      "text/html": [
       "<div>\n",
       "<style scoped>\n",
       "    .dataframe tbody tr th:only-of-type {\n",
       "        vertical-align: middle;\n",
       "    }\n",
       "\n",
       "    .dataframe tbody tr th {\n",
       "        vertical-align: top;\n",
       "    }\n",
       "\n",
       "    .dataframe thead th {\n",
       "        text-align: right;\n",
       "    }\n",
       "</style>\n",
       "<table border=\"1\" class=\"dataframe\">\n",
       "  <thead>\n",
       "    <tr style=\"text-align: right;\">\n",
       "      <th></th>\n",
       "      <th>quoted_status_id_str</th>\n",
       "      <th>id</th>\n",
       "      <th>source</th>\n",
       "      <th>text</th>\n",
       "      <th>source_url</th>\n",
       "      <th>retweet_count</th>\n",
       "      <th>id_str</th>\n",
       "      <th>in_reply_to_status_id</th>\n",
       "      <th>quoted_status_id</th>\n",
       "      <th>favorite_count</th>\n",
       "      <th>in_reply_to_status_id_str</th>\n",
       "      <th>in_reply_to_user_id_str</th>\n",
       "      <th>in_reply_to_screen_name</th>\n",
       "      <th>lang</th>\n",
       "      <th>in_reply_to_user_id</th>\n",
       "      <th>user</th>\n",
       "      <th>author</th>\n",
       "    </tr>\n",
       "  </thead>\n",
       "  <tbody>\n",
       "    <tr>\n",
       "      <th>0</th>\n",
       "      <td>NaN</td>\n",
       "      <td>1481778089394851840</td>\n",
       "      <td>Twitter Media Studio</td>\n",
       "      <td>He's been the fungus among us for quite some t...</td>\n",
       "      <td>https://studio.twitter.com</td>\n",
       "      <td>484</td>\n",
       "      <td>1481778089394851840</td>\n",
       "      <td>NaN</td>\n",
       "      <td>NaN</td>\n",
       "      <td>5186</td>\n",
       "      <td>NaN</td>\n",
       "      <td>NaN</td>\n",
       "      <td>NaN</td>\n",
       "      <td>en</td>\n",
       "      <td>NaN</td>\n",
       "      <td>FortniteGame</td>\n",
       "      <td>FortniteGame</td>\n",
       "    </tr>\n",
       "    <tr>\n",
       "      <th>1</th>\n",
       "      <td>NaN</td>\n",
       "      <td>1481773195321561088</td>\n",
       "      <td>Twitter Web App</td>\n",
       "      <td>1 horse ≠ 1 horsepower (It's about 15 hp max)\\...</td>\n",
       "      <td>https://mobile.twitter.com</td>\n",
       "      <td>190</td>\n",
       "      <td>1481773195321561088</td>\n",
       "      <td>NaN</td>\n",
       "      <td>NaN</td>\n",
       "      <td>3235</td>\n",
       "      <td>NaN</td>\n",
       "      <td>NaN</td>\n",
       "      <td>NaN</td>\n",
       "      <td>en</td>\n",
       "      <td>NaN</td>\n",
       "      <td>MKBHD</td>\n",
       "      <td>MKBHD</td>\n",
       "    </tr>\n",
       "    <tr>\n",
       "      <th>2</th>\n",
       "      <td>NaN</td>\n",
       "      <td>1481772338299514880</td>\n",
       "      <td>Twitter for iPhone</td>\n",
       "      <td>RT @samberkhead: Tell me you’re a vegetarian i...</td>\n",
       "      <td>http://twitter.com/download/iphone</td>\n",
       "      <td>11</td>\n",
       "      <td>1481772338299514880</td>\n",
       "      <td>NaN</td>\n",
       "      <td>NaN</td>\n",
       "      <td>0</td>\n",
       "      <td>NaN</td>\n",
       "      <td>NaN</td>\n",
       "      <td>NaN</td>\n",
       "      <td>en</td>\n",
       "      <td>NaN</td>\n",
       "      <td>vboykis</td>\n",
       "      <td>vboykis</td>\n",
       "    </tr>\n",
       "    <tr>\n",
       "      <th>3</th>\n",
       "      <td>1481730709224099843</td>\n",
       "      <td>1481765181382434818</td>\n",
       "      <td>Twitter Web App</td>\n",
       "      <td>Joining four other Turing Laureates as a forei...</td>\n",
       "      <td>https://mobile.twitter.com</td>\n",
       "      <td>2</td>\n",
       "      <td>1481765181382434818</td>\n",
       "      <td>NaN</td>\n",
       "      <td>1.481731e+18</td>\n",
       "      <td>25</td>\n",
       "      <td>NaN</td>\n",
       "      <td>NaN</td>\n",
       "      <td>NaN</td>\n",
       "      <td>en</td>\n",
       "      <td>NaN</td>\n",
       "      <td>ylecun</td>\n",
       "      <td>ylecun</td>\n",
       "    </tr>\n",
       "    <tr>\n",
       "      <th>4</th>\n",
       "      <td>NaN</td>\n",
       "      <td>1481763129042165767</td>\n",
       "      <td>Twitter Web App</td>\n",
       "      <td>RT @googledevs: ✨ Transitions can be difficult...</td>\n",
       "      <td>https://mobile.twitter.com</td>\n",
       "      <td>19</td>\n",
       "      <td>1481763129042165767</td>\n",
       "      <td>NaN</td>\n",
       "      <td>NaN</td>\n",
       "      <td>0</td>\n",
       "      <td>NaN</td>\n",
       "      <td>NaN</td>\n",
       "      <td>NaN</td>\n",
       "      <td>en</td>\n",
       "      <td>NaN</td>\n",
       "      <td>FlutterDev</td>\n",
       "      <td>FlutterDev</td>\n",
       "    </tr>\n",
       "  </tbody>\n",
       "</table>\n",
       "</div>"
      ],
      "text/plain": [
       "  quoted_status_id_str                   id                source  \\\n",
       "0                  NaN  1481778089394851840  Twitter Media Studio   \n",
       "1                  NaN  1481773195321561088       Twitter Web App   \n",
       "2                  NaN  1481772338299514880    Twitter for iPhone   \n",
       "3  1481730709224099843  1481765181382434818       Twitter Web App   \n",
       "4                  NaN  1481763129042165767       Twitter Web App   \n",
       "\n",
       "                                                text  \\\n",
       "0  He's been the fungus among us for quite some t...   \n",
       "1  1 horse ≠ 1 horsepower (It's about 15 hp max)\\...   \n",
       "2  RT @samberkhead: Tell me you’re a vegetarian i...   \n",
       "3  Joining four other Turing Laureates as a forei...   \n",
       "4  RT @googledevs: ✨ Transitions can be difficult...   \n",
       "\n",
       "                           source_url  retweet_count               id_str  \\\n",
       "0          https://studio.twitter.com            484  1481778089394851840   \n",
       "1          https://mobile.twitter.com            190  1481773195321561088   \n",
       "2  http://twitter.com/download/iphone             11  1481772338299514880   \n",
       "3          https://mobile.twitter.com              2  1481765181382434818   \n",
       "4          https://mobile.twitter.com             19  1481763129042165767   \n",
       "\n",
       "   in_reply_to_status_id  quoted_status_id  favorite_count  \\\n",
       "0                    NaN               NaN            5186   \n",
       "1                    NaN               NaN            3235   \n",
       "2                    NaN               NaN               0   \n",
       "3                    NaN      1.481731e+18              25   \n",
       "4                    NaN               NaN               0   \n",
       "\n",
       "  in_reply_to_status_id_str in_reply_to_user_id_str in_reply_to_screen_name  \\\n",
       "0                       NaN                     NaN                     NaN   \n",
       "1                       NaN                     NaN                     NaN   \n",
       "2                       NaN                     NaN                     NaN   \n",
       "3                       NaN                     NaN                     NaN   \n",
       "4                       NaN                     NaN                     NaN   \n",
       "\n",
       "  lang  in_reply_to_user_id          user        author  \n",
       "0   en                  NaN  FortniteGame  FortniteGame  \n",
       "1   en                  NaN         MKBHD         MKBHD  \n",
       "2   en                  NaN       vboykis       vboykis  \n",
       "3   en                  NaN        ylecun        ylecun  \n",
       "4   en                  NaN    FlutterDev    FlutterDev  "
      ]
     },
     "execution_count": 27,
     "metadata": {},
     "output_type": "execute_result"
    }
   ],
   "source": [
    "df2 = extract_timeline_as_df(my_timeline)\n",
    "df2.head()"
   ]
  },
  {
   "cell_type": "code",
   "execution_count": 28,
   "metadata": {},
   "outputs": [
    {
     "ename": "TypeError",
     "evalue": "get_user() takes 1 positional argument but 2 were given",
     "output_type": "error",
     "traceback": [
      "\u001b[1;31m---------------------------------------------------------------------------\u001b[0m",
      "\u001b[1;31mTypeError\u001b[0m                                 Traceback (most recent call last)",
      "\u001b[1;32m<ipython-input-28-856c9d472e08>\u001b[0m in \u001b[0;36m<module>\u001b[1;34m\u001b[0m\n\u001b[1;32m----> 1\u001b[1;33m \u001b[0muser\u001b[0m \u001b[1;33m=\u001b[0m \u001b[0mapi\u001b[0m\u001b[1;33m.\u001b[0m\u001b[0mget_user\u001b[0m\u001b[1;33m(\u001b[0m\u001b[1;34m\"MKBHD\"\u001b[0m\u001b[1;33m)\u001b[0m\u001b[1;33m\u001b[0m\u001b[1;33m\u001b[0m\u001b[0m\n\u001b[0m\u001b[0;32m      2\u001b[0m \u001b[0muser_timeline\u001b[0m \u001b[1;33m=\u001b[0m \u001b[0muser\u001b[0m\u001b[1;33m.\u001b[0m\u001b[0mtimeline\u001b[0m\u001b[1;33m(\u001b[0m\u001b[1;33m)\u001b[0m\u001b[1;33m\u001b[0m\u001b[1;33m\u001b[0m\u001b[0m\n\u001b[0;32m      3\u001b[0m \u001b[0mdf3\u001b[0m \u001b[1;33m=\u001b[0m \u001b[0mextract_timeline_as_df\u001b[0m\u001b[1;33m(\u001b[0m\u001b[0muser_timeline\u001b[0m\u001b[1;33m)\u001b[0m\u001b[1;33m\u001b[0m\u001b[1;33m\u001b[0m\u001b[0m\n\u001b[0;32m      4\u001b[0m \u001b[0mdf3\u001b[0m\u001b[1;33m.\u001b[0m\u001b[0mhead\u001b[0m\u001b[1;33m(\u001b[0m\u001b[1;33m)\u001b[0m\u001b[1;33m\u001b[0m\u001b[1;33m\u001b[0m\u001b[0m\n",
      "\u001b[1;32mD:\\SOFTWARE\\Anaconda\\lib\\site-packages\\tweepy\\api.py\u001b[0m in \u001b[0;36mwrapper\u001b[1;34m(*args, **kwargs)\u001b[0m\n\u001b[0;32m     44\u001b[0m             \u001b[0mkwargs\u001b[0m\u001b[1;33m[\u001b[0m\u001b[1;34m'payload_list'\u001b[0m\u001b[1;33m]\u001b[0m \u001b[1;33m=\u001b[0m \u001b[0mpayload_list\u001b[0m\u001b[1;33m\u001b[0m\u001b[1;33m\u001b[0m\u001b[0m\n\u001b[0;32m     45\u001b[0m             \u001b[0mkwargs\u001b[0m\u001b[1;33m[\u001b[0m\u001b[1;34m'payload_type'\u001b[0m\u001b[1;33m]\u001b[0m \u001b[1;33m=\u001b[0m \u001b[0mpayload_type\u001b[0m\u001b[1;33m\u001b[0m\u001b[1;33m\u001b[0m\u001b[0m\n\u001b[1;32m---> 46\u001b[1;33m             \u001b[1;32mreturn\u001b[0m \u001b[0mmethod\u001b[0m\u001b[1;33m(\u001b[0m\u001b[1;33m*\u001b[0m\u001b[0margs\u001b[0m\u001b[1;33m,\u001b[0m \u001b[1;33m**\u001b[0m\u001b[0mkwargs\u001b[0m\u001b[1;33m)\u001b[0m\u001b[1;33m\u001b[0m\u001b[1;33m\u001b[0m\u001b[0m\n\u001b[0m\u001b[0;32m     47\u001b[0m         \u001b[0mwrapper\u001b[0m\u001b[1;33m.\u001b[0m\u001b[0mpayload_list\u001b[0m \u001b[1;33m=\u001b[0m \u001b[0mpayload_list\u001b[0m\u001b[1;33m\u001b[0m\u001b[1;33m\u001b[0m\u001b[0m\n\u001b[0;32m     48\u001b[0m         \u001b[0mwrapper\u001b[0m\u001b[1;33m.\u001b[0m\u001b[0mpayload_type\u001b[0m \u001b[1;33m=\u001b[0m \u001b[0mpayload_type\u001b[0m\u001b[1;33m\u001b[0m\u001b[1;33m\u001b[0m\u001b[0m\n",
      "\u001b[1;31mTypeError\u001b[0m: get_user() takes 1 positional argument but 2 were given"
     ]
    }
   ],
   "source": [
    "user = api.get_user('MKBHD')\n",
    "user_timeline = user.timeline()\n",
    "df3 = extract_timeline_as_df(user_timeline)\n",
    "df3.head()"
   ]
  },
  {
   "cell_type": "code",
   "execution_count": null,
   "metadata": {},
   "outputs": [],
   "source": []
  }
 ],
 "metadata": {
  "kernelspec": {
   "display_name": "Python 3",
   "language": "python",
   "name": "python3"
  },
  "language_info": {
   "codemirror_mode": {
    "name": "ipython",
    "version": 3
   },
   "file_extension": ".py",
   "mimetype": "text/x-python",
   "name": "python",
   "nbconvert_exporter": "python",
   "pygments_lexer": "ipython3",
   "version": "3.8.5"
  }
 },
 "nbformat": 4,
 "nbformat_minor": 4
}
